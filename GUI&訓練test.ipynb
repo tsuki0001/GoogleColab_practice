{
  "nbformat": 4,
  "nbformat_minor": 0,
  "metadata": {
    "colab": {
      "provenance": [],
      "authorship_tag": "ABX9TyMdviQhDBkAMtbhgOMRLg0Q",
      "include_colab_link": true
    },
    "kernelspec": {
      "name": "python3",
      "display_name": "Python 3"
    },
    "language_info": {
      "name": "python"
    }
  },
  "cells": [
    {
      "cell_type": "markdown",
      "metadata": {
        "id": "view-in-github",
        "colab_type": "text"
      },
      "source": [
        "<a href=\"https://colab.research.google.com/github/tsuki0001/GoogleColab_practice/blob/main/GUI%26%E8%A8%93%E7%B7%B4test.ipynb\" target=\"_parent\"><img src=\"https://colab.research.google.com/assets/colab-badge.svg\" alt=\"Open In Colab\"/></a>"
      ]
    },
    {
      "cell_type": "code",
      "execution_count": null,
      "metadata": {
        "id": "dlpa4fg_wgVH"
      },
      "outputs": [],
      "source": [
        "import ipywidgets as w\n",
        "from IPython.display import display\n",
        "import matplotlib.pyplot as plt\n",
        "\n",
        "辞書 = [['紫陽花','あじさい'], ['竜胆', 'りんどう'], ['譲葉', 'ゆずりは']]\n",
        "番号 = 0\n",
        "正解数 = 0\n",
        "\n",
        "def 結果():\n",
        "  plt.figure(figsize=(3, 1))\n",
        "  plt.barh(['NG','OK'],[len(辞書)-正解数, 正解数])\n",
        "  plt.show()\n",
        "\n",
        "def 漢字表示():\n",
        "  if 番号 >= len(辞書):\n",
        "    結果()# print('正解数: '+ str(正解数)) # 結果()\n",
        "    表示.disabled = True\n",
        "    合ってた.disabled = True\n",
        "    間違ってた.disabled = True\n",
        "    return\n",
        "  漢字.value = 辞書[番号][0]\n",
        "\n",
        "def fh(btn):\n",
        "  global 番号\n",
        "  読み.value = 辞書[番号][1]\n",
        "\n",
        "def 次():\n",
        "  global 番号\n",
        "  番号 += 1\n",
        "  漢字表示()\n",
        "  読み.value = '読みは?'\n",
        "\n",
        "def fa(btn):\n",
        "  global 正解数\n",
        "  正解数 += 1\n",
        "  print(漢字.value + ' : ' + 辞書[番号][1])\n",
        "  次()\n",
        "\n",
        "def fm(btn):\n",
        "  print(漢字.value + ' : ' + 辞書[番号][1])\n",
        "  次()\n",
        "\n",
        "# GUI の作成\n",
        "漢字 = w.Text()\n",
        "読み = w.Label('読みは？')\n",
        "表示 = w.Button(description='表示',button_style='success')\n",
        "合ってた = w.Button(description='合ってた',button_style='info')\n",
        "間違ってた = w.Button(description='間違ってた',button_style='info')\n",
        "\n",
        "# イベントハンドラの設定\n",
        "表示.on_click(fh)\n",
        "合ってた.on_click(fa)\n",
        "間違ってた.on_click(fm)\n",
        "\n",
        "# GUI の表示\n",
        "display(漢字, 読み, (w.HBox(children = [表示,合ってた,間違ってた])))\n",
        "漢字表示()\n",
        "\n"
      ]
    },
    {
      "cell_type": "code",
      "source": [
        "from tensorflow.keras.datasets import fashion_mnist\n",
        "from sklearn.neural_network import MLPClassifier\n",
        "import numpy as np\n",
        "\n",
        "訓練データ, テストデータ = fashion_mnist.load_data()  # (1) データセットを読み込む\n",
        "訓練画像, 訓練ラベル = 訓練データ\n",
        "テスト画像, テストラベル = テストデータ\n",
        "\n",
        "訓練画像 = 訓練画像.reshape(len(訓練画像), 28*28).astype(np.float32) # (2) データを前処理する\n",
        "訓練画像 /= 255  # (2) データを前処理する\n",
        "mlp = MLPClassifier(verbose=True) # (3) モデルを作成する\n",
        "mlp.fit(訓練画像, 訓練ラベル)  # (4) モデルを訓練する\n",
        "\n",
        "テスト画像 = テスト画像.reshape(len(テスト画像), 28*28).astype(np.float32)\n",
        "テスト画像 /= 255\n",
        "精度 = mlp.score(テスト画像, テストラベル) # (5) モデルを評価する\n",
        "print('精度:', 精度)"
      ],
      "metadata": {
        "id": "A5HCcleH0pJE"
      },
      "execution_count": null,
      "outputs": []
    }
  ]
}