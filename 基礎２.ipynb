{
  "nbformat": 4,
  "nbformat_minor": 0,
  "metadata": {
    "colab": {
      "provenance": [],
      "authorship_tag": "ABX9TyOtGHOJvpB675cZGgQgRCJt",
      "include_colab_link": true
    },
    "kernelspec": {
      "name": "python3",
      "display_name": "Python 3"
    },
    "language_info": {
      "name": "python"
    }
  },
  "cells": [
    {
      "cell_type": "markdown",
      "metadata": {
        "id": "view-in-github",
        "colab_type": "text"
      },
      "source": [
        "<a href=\"https://colab.research.google.com/github/tsuki0001/GoogleColab_practice/blob/main/%E5%9F%BA%E7%A4%8E%EF%BC%92.ipynb\" target=\"_parent\"><img src=\"https://colab.research.google.com/assets/colab-badge.svg\" alt=\"Open In Colab\"/></a>"
      ]
    },
    {
      "cell_type": "markdown",
      "source": [
        "### **User定義関数**"
      ],
      "metadata": {
        "id": "K87OLwcbE2Ed"
      }
    },
    {
      "cell_type": "code",
      "source": [
        "時間 = int(input('時間: '))\n",
        "料金 = 250 * 時間 + 300\n",
        "print('料金:', 料金)"
      ],
      "metadata": {
        "colab": {
          "base_uri": "https://localhost:8080/"
        },
        "id": "7iWV2h4PMPxb",
        "outputId": "ef454e9a-2de0-4103-ea06-bd2a0f4dfdb5"
      },
      "execution_count": null,
      "outputs": [
        {
          "output_type": "stream",
          "name": "stdout",
          "text": [
            "時間: 1\n",
            "料金: 550\n"
          ]
        }
      ]
    },
    {
      "cell_type": "code",
      "source": [
        "def カラオケの料金(時間):\n",
        "    料金 = 250 * 時間 + 300\n",
        "    return 料金\n",
        "\n",
        "時間 = int(input('時間: '))\n",
        "料金 = カラオケの料金(時間)\n",
        "print('料金:', 料金)"
      ],
      "metadata": {
        "colab": {
          "base_uri": "https://localhost:8080/"
        },
        "id": "kGLPIetRMtQK",
        "outputId": "39e5f95b-b6af-4776-c18f-464dcaca9e19"
      },
      "execution_count": null,
      "outputs": [
        {
          "output_type": "stream",
          "name": "stdout",
          "text": [
            "時間: 1\n",
            "料金: 550\n"
          ]
        }
      ]
    },
    {
      "cell_type": "code",
      "source": [
        "def print_hello():\n",
        "    print('hello')\n",
        "\n",
        "print('関数の実行の前')\n",
        "print_hello()\n",
        "print('関数の実行の後')"
      ],
      "metadata": {
        "colab": {
          "base_uri": "https://localhost:8080/"
        },
        "id": "XtAZ2fHINENE",
        "outputId": "2362acaf-b5cb-4f68-84a9-f110a41acb2c"
      },
      "execution_count": null,
      "outputs": [
        {
          "output_type": "stream",
          "name": "stdout",
          "text": [
            "関数の実行の前\n",
            "hello\n",
            "関数の実行の後\n"
          ]
        }
      ]
    },
    {
      "cell_type": "code",
      "source": [
        "def print_hello():\n",
        "    print('hello')\n",
        "\n",
        "print_hello()"
      ],
      "metadata": {
        "colab": {
          "base_uri": "https://localhost:8080/"
        },
        "id": "VClHYcriNNSq",
        "outputId": "a3f2591b-640b-4c8a-c606-17f3ed35e670"
      },
      "execution_count": null,
      "outputs": [
        {
          "output_type": "stream",
          "name": "stdout",
          "text": [
            "hello\n"
          ]
        }
      ]
    },
    {
      "cell_type": "code",
      "source": [
        "def print_a(a):\n",
        "    print(a)\n",
        "\n",
        "print_a('hello')"
      ],
      "metadata": {
        "colab": {
          "base_uri": "https://localhost:8080/"
        },
        "id": "WL4ltA30NPty",
        "outputId": "b4cf7914-8526-4421-af9c-75eb873efa3e"
      },
      "execution_count": null,
      "outputs": [
        {
          "output_type": "stream",
          "name": "stdout",
          "text": [
            "hello\n"
          ]
        }
      ]
    },
    {
      "cell_type": "code",
      "source": [
        "def print_a(a):\n",
        "    print(a)\n",
        "\n",
        "print('関数の実行の前')\n",
        "print_a('hello')\n",
        "print('関数の実行の後')"
      ],
      "metadata": {
        "colab": {
          "base_uri": "https://localhost:8080/"
        },
        "id": "MXl2dPayNg2i",
        "outputId": "ada370e0-0112-46b0-db83-8c683f6e6432"
      },
      "execution_count": null,
      "outputs": [
        {
          "output_type": "stream",
          "name": "stdout",
          "text": [
            "関数の実行の前\n",
            "hello\n",
            "関数の実行の後\n"
          ]
        }
      ]
    },
    {
      "cell_type": "code",
      "source": [
        "def カラオケの料金(時間, 入店料):\n",
        "    料金= 250 * 時間 + 入店料\n",
        "    print('料金:', 料金)\n",
        "\n",
        "カラオケの料金(1, 300)"
      ],
      "metadata": {
        "colab": {
          "base_uri": "https://localhost:8080/"
        },
        "id": "xAQ7FQTGeUhP",
        "outputId": "784a9007-7e9c-4d7a-838d-45fd6b242c58"
      },
      "execution_count": null,
      "outputs": [
        {
          "output_type": "stream",
          "name": "stdout",
          "text": [
            "料金: 550\n"
          ]
        }
      ]
    },
    {
      "cell_type": "code",
      "source": [
        "def カラオケの料金(時間, 入店料):\n",
        "    料金= 250 * 時間 + 入店料\n",
        "    print('料金:', 料金)\n",
        "\n",
        "カラオケの料金(1, 300)\n",
        "\n",
        "print('キーワード引数')\n",
        "カラオケの料金(時間=1, 入店料=300) # 5行目と同じ意味\n",
        "カラオケの料金(入店料=300, 時間=1) # こうしても5行目と同じ意味になる"
      ],
      "metadata": {
        "colab": {
          "base_uri": "https://localhost:8080/"
        },
        "id": "nvnVWiJMNuyb",
        "outputId": "0474dfb8-ade2-4e91-b746-1b3de880bcac"
      },
      "execution_count": null,
      "outputs": [
        {
          "output_type": "stream",
          "name": "stdout",
          "text": [
            "料金: 550\n",
            "キーワード引数\n",
            "料金: 550\n",
            "料金: 550\n"
          ]
        }
      ]
    },
    {
      "cell_type": "code",
      "source": [
        "def カラオケの料金(時間, 入店料=300):\n",
        "    料金= 250 * 時間 + 入店料\n",
        "    print('料金:', 料金)\n",
        "\n",
        "print('初期値を利用')\n",
        "カラオケの料金(1) # 入店料は300円で計算される\n",
        "print('両方指定')\n",
        "カラオケの料金(1, 500) # 入店料と時間の両方も指定できる"
      ],
      "metadata": {
        "colab": {
          "base_uri": "https://localhost:8080/"
        },
        "id": "vHTdlqsjN6Ex",
        "outputId": "22589a0a-baaa-4acf-910e-4aeb3a9a8727"
      },
      "execution_count": null,
      "outputs": [
        {
          "output_type": "stream",
          "name": "stdout",
          "text": [
            "初期値を利用\n",
            "料金: 550\n",
            "両方指定\n",
            "料金: 750\n"
          ]
        }
      ]
    },
    {
      "cell_type": "code",
      "source": [
        "def printall(p):\n",
        "   print(p[0])\n",
        "   print(p[1])\n",
        "   print(p[2])\n",
        "\n",
        "a = [50, 80, 90]\n",
        "printall(a)"
      ],
      "metadata": {
        "colab": {
          "base_uri": "https://localhost:8080/"
        },
        "id": "M4d18s85ONAK",
        "outputId": "607891b3-d5ea-4ca2-c526-ebbf16feb2f5"
      },
      "execution_count": null,
      "outputs": [
        {
          "output_type": "stream",
          "name": "stdout",
          "text": [
            "50\n",
            "80\n",
            "90\n"
          ]
        }
      ]
    },
    {
      "cell_type": "code",
      "source": [
        "def 変更(p):\n",
        "   p[1] = 3  # 書き換える\n",
        "\n",
        "a = [50, 80, 90]\n",
        "print(a)  # [50, 80, 90] 変更前\n",
        "変更(a)  # 変更\n",
        "print(a)  # [50, 3, 90] 変更後"
      ],
      "metadata": {
        "colab": {
          "base_uri": "https://localhost:8080/"
        },
        "id": "SZ88QU21OQzC",
        "outputId": "7a0a6f25-20f9-4348-e3bb-1e3cb926845f"
      },
      "execution_count": null,
      "outputs": [
        {
          "output_type": "stream",
          "name": "stdout",
          "text": [
            "[50, 80, 90]\n",
            "[50, 3, 90]\n"
          ]
        }
      ]
    },
    {
      "cell_type": "code",
      "source": [
        "def 一割引(p):\n",
        "    for x in range(len(p)):\n",
        "        p[x]  *= 0.9  # 一割引の値段の計算\n",
        "\n",
        "値段 = [800, 300, 700]\n",
        "print(値段)  # 原価の表示\n",
        "一割引(値段)  # 一割引の値段の計算\n",
        "print('一割引の値段')\n",
        "print(値段)  # [720.0, 270.0, 630.0] 一割引の値段の表示"
      ],
      "metadata": {
        "colab": {
          "base_uri": "https://localhost:8080/"
        },
        "id": "az9QnzzsOU9s",
        "outputId": "326a2ff3-eb82-4241-ae86-51b8277a061b"
      },
      "execution_count": null,
      "outputs": [
        {
          "output_type": "stream",
          "name": "stdout",
          "text": [
            "[800, 300, 700]\n",
            "一割引の値段\n",
            "[720.0, 270.0, 630.0]\n"
          ]
        }
      ]
    },
    {
      "cell_type": "code",
      "source": [
        "def return_hello():\n",
        "     return 'hello'\n",
        "\n",
        "戻り値 = return_hello()\n",
        "print(戻り値) # helloと表示される"
      ],
      "metadata": {
        "colab": {
          "base_uri": "https://localhost:8080/"
        },
        "id": "h8Q2hHxuOcAd",
        "outputId": "6283f7b0-56c5-4aea-f4a2-37e6a7d9d76c"
      },
      "execution_count": null,
      "outputs": [
        {
          "output_type": "stream",
          "name": "stdout",
          "text": [
            "hello\n"
          ]
        }
      ]
    },
    {
      "cell_type": "code",
      "source": [
        "def 関数(x, y):\n",
        "    return x, y # return (x, y) でもよい\n",
        "\n",
        "a = 関数(1, 2)\n",
        "print(a) # (1, 2) と表示される（タプルで返される）\n",
        "print(a[0]) # 1と表示される"
      ],
      "metadata": {
        "colab": {
          "base_uri": "https://localhost:8080/"
        },
        "id": "NjvQfFsXOsmJ",
        "outputId": "78d0e0cb-387b-41ad-ca43-3532898c70e9"
      },
      "execution_count": null,
      "outputs": [
        {
          "output_type": "stream",
          "name": "stdout",
          "text": [
            "(1, 2)\n",
            "1\n"
          ]
        }
      ]
    },
    {
      "cell_type": "code",
      "source": [
        "def 関数(x, y):\n",
        "    return [x, y] # 変数に代入したリストでもOK\n",
        "\n",
        "a = 関数(1, 2)\n",
        "print(a) # [1, 2]と表示される（リストで返される）\n",
        "print(a[0]) # 1と表示される"
      ],
      "metadata": {
        "colab": {
          "base_uri": "https://localhost:8080/"
        },
        "id": "a2WY0UU5OyzY",
        "outputId": "c5f2f24f-cfad-4fa8-be55-d8bd6597a1b2"
      },
      "execution_count": null,
      "outputs": [
        {
          "output_type": "stream",
          "name": "stdout",
          "text": [
            "[1, 2]\n",
            "1\n"
          ]
        }
      ]
    },
    {
      "cell_type": "code",
      "source": [
        "def 関数(x, y):\n",
        "    return x, y\n",
        "\n",
        "a, b = 関数(1, 2)\n",
        "print(a) # 1と表示される\n",
        "print(b) # 2と表示される"
      ],
      "metadata": {
        "colab": {
          "base_uri": "https://localhost:8080/"
        },
        "id": "ffVmUMSlO3hS",
        "outputId": "628a96bd-d861-4c8b-9781-c89429659e54"
      },
      "execution_count": null,
      "outputs": [
        {
          "output_type": "stream",
          "name": "stdout",
          "text": [
            "1\n",
            "2\n"
          ]
        }
      ]
    },
    {
      "cell_type": "code",
      "source": [
        "def 関数(x, y):\n",
        "    return [x, y]\n",
        "\n",
        "a, b = 関数(1, 2)\n",
        "print(a) # 1と表示される\n",
        "print(b) # 2と表示される"
      ],
      "metadata": {
        "colab": {
          "base_uri": "https://localhost:8080/"
        },
        "id": "F4Dccu10O5C5",
        "outputId": "43fa53d6-444d-422b-f53a-de6f5c4c9705"
      },
      "execution_count": null,
      "outputs": [
        {
          "output_type": "stream",
          "name": "stdout",
          "text": [
            "1\n",
            "2\n"
          ]
        }
      ]
    },
    {
      "cell_type": "markdown",
      "source": [
        "### **ローカルとグローバル変数**"
      ],
      "metadata": {
        "id": "j01pmsswPJWs"
      }
    },
    {
      "cell_type": "code",
      "source": [
        "def 関数():\n",
        "    ローカル変数 = 'local'\n",
        "\n",
        "グローバル変数 = 'global'"
      ],
      "metadata": {
        "id": "_FQu7GZmPULR"
      },
      "execution_count": null,
      "outputs": []
    },
    {
      "cell_type": "code",
      "source": [
        "def 関数():\n",
        "   ローカル変数 = 'local'\n",
        "   print('関数の中G:', グローバル変数)\n",
        "\n",
        "グローバル変数 = 'global'\n",
        "関数() # 関数を呼び出す\n",
        "print('関数の外G:', グローバル変数) # globalと表示される"
      ],
      "metadata": {
        "colab": {
          "base_uri": "https://localhost:8080/"
        },
        "id": "WIM0ol4XPYuZ",
        "outputId": "8411bf51-781f-451a-b582-d35e32aea10b"
      },
      "execution_count": null,
      "outputs": [
        {
          "output_type": "stream",
          "name": "stdout",
          "text": [
            "関数の中G: global\n",
            "関数の外G: global\n"
          ]
        }
      ]
    },
    {
      "cell_type": "code",
      "source": [
        "def 関数():\n",
        "   ローカル変数 = 'local'\n",
        "   print('関数の中G:', グローバル変数)\n",
        "   print('関数の中L:', ローカル変数)\n",
        "\n",
        "グローバル変数 = 'global'\n",
        "関数() # 関数を呼び出す\n",
        "print('関数の外G:', グローバル変数) # globalと表示される\n",
        "print('関数の外L:', ローカル変数) # エラーになる（関数の外からは見えない）"
      ],
      "metadata": {
        "colab": {
          "base_uri": "https://localhost:8080/",
          "height": 266
        },
        "id": "yH3JeHKkQobY",
        "outputId": "829e6ecb-3aa4-4411-f20e-8bf629b1501d"
      },
      "execution_count": null,
      "outputs": [
        {
          "output_type": "stream",
          "name": "stdout",
          "text": [
            "関数の中G: global\n",
            "関数の中L: local\n",
            "関数の外G: global\n"
          ]
        },
        {
          "output_type": "error",
          "ename": "NameError",
          "evalue": "ignored",
          "traceback": [
            "\u001b[0;31m---------------------------------------------------------------------------\u001b[0m",
            "\u001b[0;31mNameError\u001b[0m                                 Traceback (most recent call last)",
            "\u001b[0;32m<ipython-input-26-acb44aed81e5>\u001b[0m in \u001b[0;36m<cell line: 9>\u001b[0;34m()\u001b[0m\n\u001b[1;32m      7\u001b[0m \u001b[0m関数\u001b[0m\u001b[0;34m(\u001b[0m\u001b[0;34m)\u001b[0m \u001b[0;31m# 関数を呼び出す\u001b[0m\u001b[0;34m\u001b[0m\u001b[0;34m\u001b[0m\u001b[0m\n\u001b[1;32m      8\u001b[0m \u001b[0mprint\u001b[0m\u001b[0;34m(\u001b[0m\u001b[0;34m'関数の外G:'\u001b[0m\u001b[0;34m,\u001b[0m \u001b[0mグローバル変数\u001b[0m\u001b[0;34m)\u001b[0m \u001b[0;31m# globalと表示される\u001b[0m\u001b[0;34m\u001b[0m\u001b[0;34m\u001b[0m\u001b[0m\n\u001b[0;32m----> 9\u001b[0;31m \u001b[0mprint\u001b[0m\u001b[0;34m(\u001b[0m\u001b[0;34m'関数の外L:'\u001b[0m\u001b[0;34m,\u001b[0m \u001b[0mローカル変数\u001b[0m\u001b[0;34m)\u001b[0m \u001b[0;31m# エラーになる（関数の外からは見えない）\u001b[0m\u001b[0;34m\u001b[0m\u001b[0;34m\u001b[0m\u001b[0m\n\u001b[0m",
            "\u001b[0;31mNameError\u001b[0m: name 'ローカル変数' is not defined"
          ]
        }
      ]
    },
    {
      "cell_type": "code",
      "source": [
        "def カラオケの料金():\n",
        "    入店料 = 300\n",
        "    料金 = 550\n",
        "    print('カラオケの料金()', '料金:', 料金)\n",
        "\n",
        "def 宿泊費():\n",
        "    料金 = 8000\n",
        "    print('宿泊費() 料金:', 料金) # 8000、と表示。550とはならない\n",
        "    print('宿泊費() 入店料:', 入店料) # エラーになる\n",
        "\n",
        "カラオケの料金()\n",
        "宿泊費()"
      ],
      "metadata": {
        "colab": {
          "base_uri": "https://localhost:8080/",
          "height": 370
        },
        "id": "fGI3zT5SRMVv",
        "outputId": "7eb126c2-fc7b-485f-b06d-658e45478079"
      },
      "execution_count": null,
      "outputs": [
        {
          "output_type": "stream",
          "name": "stdout",
          "text": [
            "カラオケの料金() 料金: 550\n",
            "宿泊費() 料金: 8000\n"
          ]
        },
        {
          "output_type": "error",
          "ename": "NameError",
          "evalue": "ignored",
          "traceback": [
            "\u001b[0;31m---------------------------------------------------------------------------\u001b[0m",
            "\u001b[0;31mNameError\u001b[0m                                 Traceback (most recent call last)",
            "\u001b[0;32m<ipython-input-28-a6ed47147b5e>\u001b[0m in \u001b[0;36m<cell line: 12>\u001b[0;34m()\u001b[0m\n\u001b[1;32m     10\u001b[0m \u001b[0;34m\u001b[0m\u001b[0m\n\u001b[1;32m     11\u001b[0m \u001b[0mカラオケの料金\u001b[0m\u001b[0;34m(\u001b[0m\u001b[0;34m)\u001b[0m\u001b[0;34m\u001b[0m\u001b[0;34m\u001b[0m\u001b[0m\n\u001b[0;32m---> 12\u001b[0;31m \u001b[0m宿泊費\u001b[0m\u001b[0;34m(\u001b[0m\u001b[0;34m)\u001b[0m\u001b[0;34m\u001b[0m\u001b[0;34m\u001b[0m\u001b[0m\n\u001b[0m",
            "\u001b[0;32m<ipython-input-28-a6ed47147b5e>\u001b[0m in \u001b[0;36m宿泊費\u001b[0;34m()\u001b[0m\n\u001b[1;32m      7\u001b[0m     \u001b[0m料金\u001b[0m \u001b[0;34m=\u001b[0m \u001b[0;36m8000\u001b[0m\u001b[0;34m\u001b[0m\u001b[0;34m\u001b[0m\u001b[0m\n\u001b[1;32m      8\u001b[0m     \u001b[0mprint\u001b[0m\u001b[0;34m(\u001b[0m\u001b[0;34m'宿泊費() 料金:'\u001b[0m\u001b[0;34m,\u001b[0m \u001b[0m料金\u001b[0m\u001b[0;34m)\u001b[0m \u001b[0;31m# 8000、と表示。550とはならない\u001b[0m\u001b[0;34m\u001b[0m\u001b[0;34m\u001b[0m\u001b[0m\n\u001b[0;32m----> 9\u001b[0;31m     \u001b[0mprint\u001b[0m\u001b[0;34m(\u001b[0m\u001b[0;34m'宿泊費() 入店料:'\u001b[0m\u001b[0;34m,\u001b[0m \u001b[0m入店料\u001b[0m\u001b[0;34m)\u001b[0m \u001b[0;31m# エラーになる\u001b[0m\u001b[0;34m\u001b[0m\u001b[0;34m\u001b[0m\u001b[0m\n\u001b[0m\u001b[1;32m     10\u001b[0m \u001b[0;34m\u001b[0m\u001b[0m\n\u001b[1;32m     11\u001b[0m \u001b[0mカラオケの料金\u001b[0m\u001b[0;34m(\u001b[0m\u001b[0;34m)\u001b[0m\u001b[0;34m\u001b[0m\u001b[0;34m\u001b[0m\u001b[0m\n",
            "\u001b[0;31mNameError\u001b[0m: name '入店料' is not defined"
          ]
        }
      ]
    },
    {
      "cell_type": "code",
      "source": [
        "def カラオケの料金(時間, 入店料=300):\n",
        "    料金 = 250 * 時間 + 入店料\n",
        "    print('関数の中:', 料金)\n",
        "\n",
        "料金 = 0 # グローバル変数\n",
        "カラオケの料金(1)\n",
        "print('料金:', 料金) # 0と表示される"
      ],
      "metadata": {
        "colab": {
          "base_uri": "https://localhost:8080/"
        },
        "id": "ln3BO-7_Ryia",
        "outputId": "f07faa15-a2e2-49a9-d390-67fa92e4530f"
      },
      "execution_count": null,
      "outputs": [
        {
          "output_type": "stream",
          "name": "stdout",
          "text": [
            "関数の中: 550\n",
            "料金: 0\n"
          ]
        }
      ]
    },
    {
      "cell_type": "code",
      "source": [
        "def カラオケの料金(時間, 入店料=300):\n",
        "    global 料金\n",
        "    料金 = 250 * 時間 + 入店料\n",
        "    print('関数の中:', 料金)\n",
        "\n",
        "料金 = 0 # グローバル変数\n",
        "カラオケの料金(1)\n",
        "print('料金:', 料金) # 550、と表示される"
      ],
      "metadata": {
        "colab": {
          "base_uri": "https://localhost:8080/"
        },
        "id": "EjeGdqzQSFtC",
        "outputId": "c8f1521c-ddc0-44e4-90a4-9d24ad42ed1b"
      },
      "execution_count": null,
      "outputs": [
        {
          "output_type": "stream",
          "name": "stdout",
          "text": [
            "関数の中: 550\n",
            "料金: 550\n"
          ]
        }
      ]
    },
    {
      "cell_type": "code",
      "source": [
        "def 宿泊費(人数):\n",
        "    if 人数 == 1:\n",
        "        料金 = 25000\n",
        "    elif 人数 == 2:\n",
        "        料金 = 10000\n",
        "    elif 人数 >= 3:\n",
        "        料金 = 8000\n",
        "    return 料金\n",
        "\n",
        "人数 = int(input('人数: '))\n",
        "料金 = 宿泊費(人数)\n",
        "print('1人の料金:', 料金)\n",
        "print('合計:', 料金 * 人数)"
      ],
      "metadata": {
        "id": "DZJiZleSSTKK",
        "outputId": "004ca2d1-bfef-45dd-b5c1-b22820ef42c1",
        "colab": {
          "base_uri": "https://localhost:8080/"
        }
      },
      "execution_count": null,
      "outputs": [
        {
          "output_type": "stream",
          "name": "stdout",
          "text": [
            "人数: 2\n",
            "1人の料金: 10000\n",
            "合計: 20000\n"
          ]
        }
      ]
    },
    {
      "cell_type": "markdown",
      "source": [
        "### **外部ファイルからの読み込み**"
      ],
      "metadata": {
        "id": "ovh86Nh5Vmwp"
      }
    },
    {
      "cell_type": "code",
      "source": [
        "import fee\n",
        "人数 = int(input('人数: '))\n",
        "料金 = fee.宿泊費(人数)\n",
        "print('1人の料金:', 料金)\n",
        "print('合計:', 料金 * 人数)"
      ],
      "metadata": {
        "colab": {
          "base_uri": "https://localhost:8080/"
        },
        "id": "06dv3ZUoVVqq",
        "outputId": "c53eae9d-5a73-4f45-c935-ecb247f7e7b1"
      },
      "execution_count": null,
      "outputs": [
        {
          "output_type": "stream",
          "name": "stdout",
          "text": [
            "人数: 3\n",
            "1人の料金: 8000\n",
            "合計: 24000\n"
          ]
        }
      ]
    },
    {
      "cell_type": "code",
      "source": [
        "import fee as f\n",
        "人数 = int(input('人数: '))\n",
        "料金 = f.宿泊費(人数)\n",
        "print('1人の料金:', 料金)\n",
        "print('合計:', 料金 * 人数)"
      ],
      "metadata": {
        "colab": {
          "base_uri": "https://localhost:8080/"
        },
        "id": "AAJnEdL6nGys",
        "outputId": "22f521b1-e48d-4f3a-c52b-e0f3c2f185b8"
      },
      "execution_count": null,
      "outputs": [
        {
          "output_type": "stream",
          "name": "stdout",
          "text": [
            "人数: 3\n",
            "1人の料金: 8000\n",
            "合計: 24000\n"
          ]
        }
      ]
    },
    {
      "cell_type": "code",
      "source": [
        "from fee import *\n",
        "人数 = int(input('人数: '))\n",
        "料金 = 宿泊費(人数) # 何も付けずに利用できる\n",
        "print('1人の料金:', 料金)\n",
        "print('合計:', 料金 * 人数)"
      ],
      "metadata": {
        "colab": {
          "base_uri": "https://localhost:8080/"
        },
        "id": "R8XGpeonnppr",
        "outputId": "f317c251-48bc-4abd-9b85-fbe91b582367"
      },
      "execution_count": null,
      "outputs": [
        {
          "output_type": "stream",
          "name": "stdout",
          "text": [
            "人数: 3\n",
            "1人の料金: 8000\n",
            "合計: 24000\n"
          ]
        }
      ]
    },
    {
      "cell_type": "markdown",
      "source": [
        "以下は、fee2.pyがないと動かないので注意"
      ],
      "metadata": {
        "id": "yxhZIqdSpHqC"
      }
    },
    {
      "cell_type": "code",
      "source": [
        "from fee2 import 宿泊費\n",
        "人数 = int(input('人数: '))\n",
        "料金 = 宿泊費(人数)\n",
        "print('1人の料金:', 料金)\n",
        "料金 = カラオケの料金(1) # エラー\n",
        "print('1人の料金:', 料金)"
      ],
      "metadata": {
        "colab": {
          "base_uri": "https://localhost:8080/",
          "height": 282
        },
        "id": "HrZCns05n3KW",
        "outputId": "7553a5a5-1aca-449f-bdf0-6ad84a5de659"
      },
      "execution_count": null,
      "outputs": [
        {
          "output_type": "stream",
          "name": "stdout",
          "text": [
            "人数: 3\n",
            "1人の料金: 8000\n"
          ]
        },
        {
          "output_type": "error",
          "ename": "NameError",
          "evalue": "ignored",
          "traceback": [
            "\u001b[0;31m---------------------------------------------------------------------------\u001b[0m",
            "\u001b[0;31mNameError\u001b[0m                                 Traceback (most recent call last)",
            "\u001b[0;32m<ipython-input-4-e025b6f1bcd6>\u001b[0m in \u001b[0;36m<cell line: 5>\u001b[0;34m()\u001b[0m\n\u001b[1;32m      3\u001b[0m \u001b[0m料金\u001b[0m \u001b[0;34m=\u001b[0m \u001b[0m宿泊費\u001b[0m\u001b[0;34m(\u001b[0m\u001b[0m人数\u001b[0m\u001b[0;34m)\u001b[0m\u001b[0;34m\u001b[0m\u001b[0;34m\u001b[0m\u001b[0m\n\u001b[1;32m      4\u001b[0m \u001b[0mprint\u001b[0m\u001b[0;34m(\u001b[0m\u001b[0;34m'1人の料金:'\u001b[0m\u001b[0;34m,\u001b[0m \u001b[0m料金\u001b[0m\u001b[0;34m)\u001b[0m\u001b[0;34m\u001b[0m\u001b[0;34m\u001b[0m\u001b[0m\n\u001b[0;32m----> 5\u001b[0;31m \u001b[0m料金\u001b[0m \u001b[0;34m=\u001b[0m \u001b[0mカラオケの料金\u001b[0m\u001b[0;34m(\u001b[0m\u001b[0;36m1\u001b[0m\u001b[0;34m)\u001b[0m \u001b[0;31m# エラー\u001b[0m\u001b[0;34m\u001b[0m\u001b[0;34m\u001b[0m\u001b[0m\n\u001b[0m\u001b[1;32m      6\u001b[0m \u001b[0mprint\u001b[0m\u001b[0;34m(\u001b[0m\u001b[0;34m'1人の料金:'\u001b[0m\u001b[0;34m,\u001b[0m \u001b[0m料金\u001b[0m\u001b[0;34m)\u001b[0m\u001b[0;34m\u001b[0m\u001b[0;34m\u001b[0m\u001b[0m\n",
            "\u001b[0;31mNameError\u001b[0m: name 'カラオケの料金' is not defined"
          ]
        }
      ]
    },
    {
      "cell_type": "code",
      "source": [
        "from fee2 import 宿泊費 as 宿代\n",
        "人数 = int(input('人数: '))\n",
        "料金 = 宿代(人数)\n",
        "print('1人の料金:', 料金)"
      ],
      "metadata": {
        "colab": {
          "base_uri": "https://localhost:8080/"
        },
        "id": "Lm1zq6eEooIH",
        "outputId": "6a3250bc-36f1-4a1b-b693-63aa21258d04"
      },
      "execution_count": null,
      "outputs": [
        {
          "output_type": "stream",
          "name": "stdout",
          "text": [
            "人数: 3\n",
            "1人の料金: 8000\n"
          ]
        }
      ]
    },
    {
      "cell_type": "markdown",
      "source": [
        "### **クラス**"
      ],
      "metadata": {
        "id": "5RVEE_6upQ8B"
      }
    },
    {
      "cell_type": "code",
      "source": [
        "def 合計(得点群):\n",
        "    合計点 = 0\n",
        "    for 得点 in 得点群:\n",
        "        合計点 += 得点\n",
        "    return 合計点\n",
        "\n",
        "得点 = [58, 80, 72]\n",
        "合計点 = 合計(得点)\n",
        "print(合計点) # 210"
      ],
      "metadata": {
        "colab": {
          "base_uri": "https://localhost:8080/"
        },
        "id": "bXYLlMmHpwCn",
        "outputId": "6c7965eb-b3e1-4465-aaa4-12f827e32cf9"
      },
      "execution_count": null,
      "outputs": [
        {
          "output_type": "stream",
          "name": "stdout",
          "text": [
            "210\n"
          ]
        }
      ]
    },
    {
      "cell_type": "code",
      "source": [
        "class 学生:\n",
        "    得点群 = [58, 80, 72]\n",
        "    def 合計():\n",
        "        合計点 = 0\n",
        "        for 得点 in 学生.得点群:\n",
        "            合計点 += 得点\n",
        "        return 合計点\n",
        "\n",
        "合計点 = 学生.合計()\n",
        "print(合計点) # 210"
      ],
      "metadata": {
        "colab": {
          "base_uri": "https://localhost:8080/"
        },
        "id": "4qmreizZpxgo",
        "outputId": "ee945278-ac95-429f-c96d-0622bb4e6693"
      },
      "execution_count": null,
      "outputs": [
        {
          "output_type": "stream",
          "name": "stdout",
          "text": [
            "210\n"
          ]
        }
      ]
    },
    {
      "cell_type": "code",
      "source": [
        "class お財布:\n",
        "   def __init__(self):\n",
        "       self.名前 = '名無し'\n",
        "       self.所持金 = 0\n",
        "       print('インスタンスが作成された')\n",
        "\n",
        "print('インスタンスの作成前')\n",
        "インスタンス = お財布()\n",
        "print('インスタンスの作成前')"
      ],
      "metadata": {
        "colab": {
          "base_uri": "https://localhost:8080/"
        },
        "id": "JIXCNJALqEvn",
        "outputId": "c36375e8-c516-4e59-9a8a-99715ee18552"
      },
      "execution_count": null,
      "outputs": [
        {
          "output_type": "stream",
          "name": "stdout",
          "text": [
            "インスタンスの作成前\n",
            "インスタンスが作成された\n",
            "インスタンスの作成前\n"
          ]
        }
      ]
    },
    {
      "cell_type": "code",
      "source": [
        "class お財布:\n",
        "   def __init__(self):\n",
        "       self.名前 = '名無し'\n",
        "       self.所持金 = 0\n",
        "       print('インスタンスが作成された')\n",
        "\n",
        "お財布_こま = お財布() # 関数の戻り値と同じ\n",
        "print(お財布_こま.名前)\n",
        "print(お財布_こま.所持金)"
      ],
      "metadata": {
        "colab": {
          "base_uri": "https://localhost:8080/"
        },
        "id": "2MVAfPXdrYjP",
        "outputId": "26b982be-da6f-4156-e429-3ccab2e718b3"
      },
      "execution_count": null,
      "outputs": [
        {
          "output_type": "stream",
          "name": "stdout",
          "text": [
            "インスタンスが作成された\n",
            "名無し\n",
            "0\n"
          ]
        }
      ]
    },
    {
      "cell_type": "code",
      "source": [
        "class お財布:\n",
        "   def __init__(self):\n",
        "       self.名前 = '名無し'\n",
        "       self.所持金 = 0\n",
        "       print('インスタンスが作成された')\n",
        "\n",
        "お財布_こま = お財布() # 関数の戻り値と同じ\n",
        "お財布_こま.名前 = 'こまさん'\n",
        "お財布_こま.所持金 = 1000\n",
        "print(お財布_こま.名前)\n",
        "print(お財布_こま.所持金)"
      ],
      "metadata": {
        "colab": {
          "base_uri": "https://localhost:8080/"
        },
        "id": "PyuvKqkxrlB-",
        "outputId": "052e819b-e323-4dc4-8aab-1b9140502b29"
      },
      "execution_count": null,
      "outputs": [
        {
          "output_type": "stream",
          "name": "stdout",
          "text": [
            "インスタンスが作成された\n",
            "こまさん\n",
            "1000\n"
          ]
        }
      ]
    },
    {
      "cell_type": "code",
      "source": [
        "class お財布: # クラスの定義\n",
        "   def __init__(self):\n",
        "       self.名前 = '名無し'\n",
        "       self.所持金 = 0\n",
        "\n",
        "お財布_こま = お財布() # インスタンスの作成\n",
        "お財布_こま.名前 = 'こまさん'\n",
        "お財布_こま.所持金 = 1000\n",
        "print(お財布_こま.名前)\n",
        "print(お財布_こま.所持金)\n",
        "\n",
        "お財布_じば = お財布() # もう1つ作成する\n",
        "print(お財布_じば.名前)  # 名無し、と表示される\n",
        "print(お財布_じば.所持金) # 0、と表示される"
      ],
      "metadata": {
        "colab": {
          "base_uri": "https://localhost:8080/"
        },
        "id": "5uY_octlr2RY",
        "outputId": "3b7eb710-2fba-42c1-e043-86bba3d311b9"
      },
      "execution_count": null,
      "outputs": [
        {
          "output_type": "stream",
          "name": "stdout",
          "text": [
            "こまさん\n",
            "1000\n",
            "名無し\n",
            "0\n"
          ]
        }
      ]
    },
    {
      "cell_type": "code",
      "source": [
        "class お財布: # クラスの定義\n",
        "   def __init__(self):\n",
        "       self.名前 = '名無し'\n",
        "       self.所持金 = 0\n",
        "\n",
        "お財布_こま = お財布() # インスタンスの作成\n",
        "お財布_こま.名前 = 'こまさん'\n",
        "お財布_こま.所持金 = 1000\n",
        "print(お財布_こま.名前)\n",
        "print(お財布_こま.所持金)\n",
        "\n",
        "お財布_じば = お財布() # もう1つ作成する\n",
        "お財布_じば.名前 = 'じばさん'\n",
        "お財布_じば.所持金 = 5000\n",
        "print(お財布_じば.名前)\n",
        "print(お財布_じば.所持金)"
      ],
      "metadata": {
        "colab": {
          "base_uri": "https://localhost:8080/"
        },
        "id": "Xo8FYMOVsK7V",
        "outputId": "36307436-70b5-4de7-98e9-e33f6edbade1"
      },
      "execution_count": null,
      "outputs": [
        {
          "output_type": "stream",
          "name": "stdout",
          "text": [
            "こまさん\n",
            "1000\n",
            "じばさん\n",
            "5000\n"
          ]
        }
      ]
    },
    {
      "cell_type": "code",
      "source": [
        "class お財布: # クラスの定義\n",
        "   def __init__(self, 名前, 所持金):\n",
        "       self.名前 = 名前\n",
        "       self.所持金 = 所持金\n",
        "\n",
        "お財布_こま = お財布('こまさん', 1000)\n",
        "print(お財布_こま.名前)\n",
        "print(お財布_こま.所持金)"
      ],
      "metadata": {
        "colab": {
          "base_uri": "https://localhost:8080/"
        },
        "id": "DaKVpOEQsY0D",
        "outputId": "9813bdfd-2919-41e8-abe0-7607ff133032"
      },
      "execution_count": null,
      "outputs": [
        {
          "output_type": "stream",
          "name": "stdout",
          "text": [
            "名無し\n",
            "0\n"
          ]
        }
      ]
    },
    {
      "cell_type": "code",
      "source": [
        "class お財布: # クラスの定義\n",
        "    def __init__(self, 名前, 所持金):\n",
        "       self.名前 = 名前\n",
        "       self.所持金 = 所持金\n",
        "    def print(self):\n",
        "        print('メソッドが実行された')\n",
        "\n",
        "お財布_こま = お財布 (1000, 'こまさん')\n",
        "お財布_こま.print() # メソッドが実行された、と表示される"
      ],
      "metadata": {
        "colab": {
          "base_uri": "https://localhost:8080/"
        },
        "id": "EP3saAo8sw5O",
        "outputId": "5fcca5a4-8810-4fb5-f031-f3ed9443ec94"
      },
      "execution_count": null,
      "outputs": [
        {
          "output_type": "stream",
          "name": "stdout",
          "text": [
            "メソッドが実行された\n"
          ]
        }
      ]
    },
    {
      "cell_type": "code",
      "source": [
        "class お財布: # クラスの定義\n",
        "    def __init__(self, 名前, 所持金):\n",
        "       self.名前 = 名前\n",
        "       self.所持金 = 所持金\n",
        "    def print(self):\n",
        "        print(self.名前, self.所持金)\n",
        "    def 入れる(self, 金額):\n",
        "        self.所持金 = self.所持金 + 金額\n",
        "\n",
        "お財布_こま = お財布('こまさん', 1000)\n",
        "お財布_こま.入れる(500)\n",
        "お財布_こま.print() # こまさん 1500 と表示される"
      ],
      "metadata": {
        "colab": {
          "base_uri": "https://localhost:8080/"
        },
        "id": "uwhx4xBWtNP2",
        "outputId": "ea7a9104-12b8-4e5d-e0a3-2f3b9457b8be"
      },
      "execution_count": null,
      "outputs": [
        {
          "output_type": "stream",
          "name": "stdout",
          "text": [
            "こまさん 1500\n"
          ]
        }
      ]
    },
    {
      "cell_type": "code",
      "source": [
        "class お財布: # クラスの定義\n",
        "    def __init__(self, 名前, 所持金):\n",
        "        self.名前 = 名前 # 持ち主の名前\n",
        "        self.所持金= 所持金 # 所持金\n",
        "    def print(self):\n",
        "        print(self.名前, self.所持金)\n",
        "    def 入れる(self, 金額):\n",
        "        self.所持金 = self.所持金 + 金額\n",
        "    def get所持金(self):\n",
        "        return self.所持金\n",
        "\n",
        "お財布_こま = お財布('こまさん', 1000)\n",
        "お財布_こま.入れる(500)\n",
        "所持金 = お財布_こま.get所持金()\n",
        "print(所持金) # 1500と表示される"
      ],
      "metadata": {
        "colab": {
          "base_uri": "https://localhost:8080/"
        },
        "id": "0oGIT27tbDH1",
        "outputId": "24c6fa78-8c4b-4eb4-f830-c44fd3f54292"
      },
      "execution_count": null,
      "outputs": [
        {
          "output_type": "stream",
          "name": "stdout",
          "text": [
            "1500\n"
          ]
        }
      ]
    },
    {
      "cell_type": "code",
      "source": [
        "class 親:\n",
        "    def __init__(self):\n",
        "        self.財産 = '名画'\n",
        "class 子(親):\n",
        "    def print(self):\n",
        "        print(self.財産)\n",
        "\n",
        "子_1 = 子()\n",
        "子_1.print() # 名画、と表示される"
      ],
      "metadata": {
        "colab": {
          "base_uri": "https://localhost:8080/"
        },
        "id": "4g4d5uddtidF",
        "outputId": "f4a81815-9094-4922-c2d8-69d3e74862cc"
      },
      "execution_count": null,
      "outputs": [
        {
          "output_type": "stream",
          "name": "stdout",
          "text": [
            "名画\n"
          ]
        }
      ]
    },
    {
      "cell_type": "code",
      "source": [
        "class 親:\n",
        "     def __init__(self):\n",
        "          self.財産 = '名画'\n",
        "     def 名前を言う(self):\n",
        "          print('山田')\n",
        "class 子(親):\n",
        "     def print(self):\n",
        "          print(self.財産)\n",
        "\n",
        "子_1 = 子()\n",
        "子_1.名前を言う() # 山田、と表示される"
      ],
      "metadata": {
        "colab": {
          "base_uri": "https://localhost:8080/"
        },
        "id": "WKs_-jAZtwit",
        "outputId": "0735cd84-ec93-4b99-eb7d-11fa550073b8"
      },
      "execution_count": null,
      "outputs": [
        {
          "output_type": "stream",
          "name": "stdout",
          "text": [
            "山田\n"
          ]
        }
      ]
    },
    {
      "cell_type": "code",
      "source": [
        "class 親:\n",
        "     def __init__(self):\n",
        "        self.財産 = '名画'\n",
        "     def 名前を言う(self):\n",
        "        print('山田')\n",
        "class 子(親):\n",
        "     def print(self):\n",
        "        print(self.財産)\n",
        "     def 名前を言う(self):\n",
        "        print('山田花子')\n",
        "\n",
        "子_1 = 子()\n",
        "子_1.名前を言う() # 山田花子、と表示される"
      ],
      "metadata": {
        "colab": {
          "base_uri": "https://localhost:8080/"
        },
        "id": "nv5Z9Dftt7a9",
        "outputId": "828ac8fb-f6d7-4b77-ac52-08ed561ae0a9"
      },
      "execution_count": null,
      "outputs": [
        {
          "output_type": "stream",
          "name": "stdout",
          "text": [
            "山田花子\n"
          ]
        }
      ]
    },
    {
      "cell_type": "markdown",
      "source": [
        "### **ファイルの読み書き**"
      ],
      "metadata": {
        "id": "jqgHGBb5uUk1"
      }
    },
    {
      "cell_type": "code",
      "source": [
        "f = open('test.txt', 'w') # (1) ファイルを開く\n",
        "f.write('お城が見える。\\n') # (2) 書き込む\n",
        "f.close() # (3) ファイルを閉じる"
      ],
      "metadata": {
        "id": "s2i6r2vyTOGJ"
      },
      "execution_count": null,
      "outputs": []
    },
    {
      "cell_type": "code",
      "source": [
        "f = open('test1.txt', 'w') # (1) ファイルを開く\n",
        "f.write('お城が見える。\\n') # (2) 書き込む\n",
        "f.write('ああ、ほんとうだ\\n')\n",
        "f.close() # (3) ファイルを閉じる"
      ],
      "metadata": {
        "id": "NaXVip0GUP09"
      },
      "execution_count": null,
      "outputs": []
    },
    {
      "cell_type": "code",
      "source": [
        "f = open('test2.txt', 'w') # (1) ファイルを開く\n",
        "f.write('お城が見える。') # (2) 書き込む\n",
        "f.write('ああ、ほんとうだ\\n')\n",
        "f.close() # (3) ファイルを閉じる"
      ],
      "metadata": {
        "id": "GG4PQl9SUeHo"
      },
      "execution_count": null,
      "outputs": []
    },
    {
      "cell_type": "code",
      "source": [
        "f = open('test.txt', 'r') # (1) ファイルを開く\n",
        "文字列 = f.read() # (2) 内容を読み込む\n",
        "f.close() # (3) ファイルを閉じる\n",
        "print(文字列) #　内容を表示する"
      ],
      "metadata": {
        "colab": {
          "base_uri": "https://localhost:8080/"
        },
        "id": "e0BtEuoAvttE",
        "outputId": "c150ea1d-830c-40f9-dc00-ad7a63929fbb"
      },
      "execution_count": null,
      "outputs": [
        {
          "output_type": "stream",
          "name": "stdout",
          "text": [
            "お城が見える。\n",
            "\n"
          ]
        }
      ]
    },
    {
      "cell_type": "code",
      "source": [
        "with open('test.txt', 'r') as f:\n",
        "    文字列 = f.read()\n",
        "print(文字列)"
      ],
      "metadata": {
        "colab": {
          "base_uri": "https://localhost:8080/"
        },
        "id": "-1I-DaZKwV8U",
        "outputId": "30ff626b-2d1e-4303-d5bb-04b59c1a84ab"
      },
      "execution_count": null,
      "outputs": [
        {
          "output_type": "stream",
          "name": "stdout",
          "text": [
            "お城が見える。\n",
            "\n"
          ]
        }
      ]
    },
    {
      "cell_type": "code",
      "source": [
        "with open('test3.txt', 'w') as f:\n",
        "      f.write('お城が見える。\\n')\n",
        "      f.write('ああ本当だ。\\n')"
      ],
      "metadata": {
        "id": "eVt3PBTswj9s"
      },
      "execution_count": null,
      "outputs": []
    },
    {
      "cell_type": "code",
      "source": [
        "from google.colab import drive\n",
        "drive.mount('/content/drive')"
      ],
      "metadata": {
        "id": "HoJH6artGaxL"
      },
      "execution_count": null,
      "outputs": []
    },
    {
      "cell_type": "code",
      "source": [
        "import csv\n",
        "\n",
        "with open('data.csv', 'r') as f:\n",
        "    for 行 in csv.reader(f):\n",
        "        print(行)"
      ],
      "metadata": {
        "id": "KY1yrU9cycjk"
      },
      "execution_count": null,
      "outputs": []
    },
    {
      "cell_type": "code",
      "source": [
        "import locale\n",
        "print(locale.getpreferredencoding())"
      ],
      "metadata": {
        "colab": {
          "base_uri": "https://localhost:8080/"
        },
        "id": "RMjo4wccywO1",
        "outputId": "827f7be6-3ff7-4af9-cd1e-2fdc4a6bd350"
      },
      "execution_count": 7,
      "outputs": [
        {
          "output_type": "stream",
          "name": "stdout",
          "text": [
            "utf-8\n"
          ]
        }
      ]
    }
  ]
}