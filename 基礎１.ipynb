{
  "nbformat": 4,
  "nbformat_minor": 0,
  "metadata": {
    "colab": {
      "provenance": [],
      "authorship_tag": "ABX9TyPj5WIxDI2OgY7OD+7Jw5rG",
      "include_colab_link": true
    },
    "kernelspec": {
      "name": "python3",
      "display_name": "Python 3"
    },
    "language_info": {
      "name": "python"
    }
  },
  "cells": [
    {
      "cell_type": "markdown",
      "metadata": {
        "id": "view-in-github",
        "colab_type": "text"
      },
      "source": [
        "<a href=\"https://colab.research.google.com/github/tsuki0001/GoogleColab_practice/blob/main/%E5%9F%BA%E7%A4%8E%EF%BC%91.ipynb\" target=\"_parent\"><img src=\"https://colab.research.google.com/assets/colab-badge.svg\" alt=\"Open In Colab\"/></a>"
      ]
    },
    {
      "cell_type": "markdown",
      "source": [
        "### **変数の定義〜代入、四則演算**"
      ],
      "metadata": {
        "id": "2Hd8B1Uw5te1"
      }
    },
    {
      "cell_type": "code",
      "execution_count": null,
      "metadata": {
        "id": "DwE9zec0spPc"
      },
      "outputs": [],
      "source": [
        "x = 1\n",
        "print(x) # 1が表示される\n",
        "print('x') # xが表示される"
      ]
    },
    {
      "cell_type": "code",
      "source": [
        "print(1, 2, 3)\n",
        "print('所持金', 1000)"
      ],
      "metadata": {
        "id": "ZzgscmeF2Sss"
      },
      "execution_count": null,
      "outputs": []
    },
    {
      "cell_type": "code",
      "source": [
        "num = 255\n",
        "print(num) # 255と表示される\n",
        "text = '白'\n",
        "print(text) # 「白」と表示される"
      ],
      "metadata": {
        "id": "64ttgO8z2TAM"
      },
      "execution_count": null,
      "outputs": []
    },
    {
      "cell_type": "code",
      "source": [
        "dog = '犬'\n",
        "to = 'と'\n",
        "cat = '猫'\n",
        "dog_to_cat = dog + to + cat # '犬’ + ’と’  + ’猫’ → ’犬と猫’\n",
        "print(dog_to_cat) # 「犬と猫」と表示"
      ],
      "metadata": {
        "id": "wC2plHWR5Md8"
      },
      "execution_count": null,
      "outputs": []
    },
    {
      "cell_type": "code",
      "source": [
        "x = 1\n",
        "x += 1 # xを使用して計算し、それをxに代入している\n",
        "print(x) # 2と表示される\n",
        "x -= 1 # 引き算ver.\n",
        "print(x) # 1と表示される"
      ],
      "metadata": {
        "id": "jgPLS1DO2THw"
      },
      "execution_count": null,
      "outputs": []
    },
    {
      "cell_type": "code",
      "source": [
        "# 四則演算\n",
        "x = 10\n",
        "y = 4\n",
        "print(x + y) #加算\n",
        "print(x - y) #減算\n",
        "print(x * y) #乗算\n",
        "print(x / y) #除算\n",
        "print((x + y - 1) // y) #除算(切り上げ)\n",
        "print(x // y) #除算(切り捨て)\n",
        "print(x % y) #除算(剰余)"
      ],
      "metadata": {
        "id": "5B-tiKpn2TTt"
      },
      "execution_count": null,
      "outputs": []
    },
    {
      "cell_type": "markdown",
      "source": [
        "## **if文**"
      ],
      "metadata": {
        "id": "ROV0DbLY5sEL"
      }
    },
    {
      "cell_type": "code",
      "source": [
        "a = input('入力してください: ')\n",
        "print(a) # aの値を表示する"
      ],
      "metadata": {
        "id": "h3kfz8_rHl2P"
      },
      "execution_count": null,
      "outputs": []
    },
    {
      "cell_type": "code",
      "source": [
        "a = int(input('入力してください: ')) # 入力された文字列を整数に\n",
        "if a < 60:\n",
        "    print('aは60より小さい')\n",
        "print('if文終了')"
      ],
      "metadata": {
        "id": "C7PGOcxyp_D6"
      },
      "execution_count": null,
      "outputs": []
    },
    {
      "cell_type": "code",
      "source": [
        "a = int(input('入力してください: '))\n",
        "if  a < 60:\n",
        "    print ('60より小さい')\n",
        "    print('もう一歩')\n",
        "else:\n",
        "    print('60以上')\n",
        "    print('合格')\n",
        "print('です')"
      ],
      "metadata": {
        "id": "AS_aLLYjhFoY"
      },
      "execution_count": null,
      "outputs": []
    },
    {
      "cell_type": "code",
      "source": [
        "人数 = int(input('人数: '))\n",
        "if 人数 == 1: # ①\n",
        "    料金 = 18000\n",
        "else:\n",
        "    if 人数 == 2: # ②\n",
        "        料金 = 10000\n",
        "    else:\n",
        "        if 人数 >= 3: # ③\n",
        "            料金 = 8000\n",
        "print('1人の料金:', 料金)\n",
        "print('合計:', 料金 * 人数)"
      ],
      "metadata": {
        "id": "6EX9Vqscxgu9"
      },
      "execution_count": null,
      "outputs": []
    },
    {
      "cell_type": "code",
      "source": [
        "人数 = int(input('人数: '))\n",
        "if 人数 == 1:\n",
        "    料金 = 18000\n",
        "elif 人数 == 2:\n",
        "    料金 = 10000\n",
        "elif 人数 >= 3:\n",
        "    料金 = 8000\n",
        "print('1人の料金:', 料金)\n",
        "print('合計:', 料金 * 人数)"
      ],
      "metadata": {
        "id": "XP6ndtqpyPi2"
      },
      "execution_count": null,
      "outputs": []
    },
    {
      "cell_type": "code",
      "source": [
        "n = 1\n",
        "m = 2\n",
        "if n >= 10 and m <= 3:\n",
        "  print('成り立つ')\n",
        "else:\n",
        "  print('成り立たない')"
      ],
      "metadata": {
        "id": "PGhTVJgy0IGc"
      },
      "execution_count": null,
      "outputs": []
    },
    {
      "cell_type": "code",
      "source": [
        "n = 11\n",
        "m = 2\n",
        "if n >= 10 or m <= 3:\n",
        "  print('成り立つ')\n",
        "else:\n",
        "  print('成り立たない')"
      ],
      "metadata": {
        "id": "gkJpi0Qt5E7t"
      },
      "execution_count": null,
      "outputs": []
    },
    {
      "cell_type": "code",
      "source": [
        "n = 11\n",
        "m = 2\n",
        "print(n >= 10 and m <= 3) # Trueと表示される"
      ],
      "metadata": {
        "id": "xB8P3F9PqiRa"
      },
      "execution_count": null,
      "outputs": []
    },
    {
      "cell_type": "markdown",
      "source": [
        "### **loop、for文~while文**"
      ],
      "metadata": {
        "id": "nzD5yYDF7GoZ"
      }
    },
    {
      "cell_type": "code",
      "source": [
        "count = 1\n",
        "while count <= 10:\n",
        "   print('夏休み！')\n",
        "   count += 1"
      ],
      "metadata": {
        "id": "rxNk-PYm8-fY"
      },
      "execution_count": null,
      "outputs": []
    },
    {
      "cell_type": "code",
      "source": [
        "for i in range(10):\n",
        "   print('夏休み！')"
      ],
      "metadata": {
        "id": "mjf27T-Y9TVG"
      },
      "execution_count": null,
      "outputs": []
    },
    {
      "cell_type": "code",
      "source": [
        "x = 1\n",
        "while x <= 3:\n",
        "    print ('ひつじ', x)\n",
        "    x = x + 1\n",
        "print('while文終了')"
      ],
      "metadata": {
        "id": "1-zjYYKZ9eyD"
      },
      "execution_count": null,
      "outputs": []
    },
    {
      "cell_type": "code",
      "source": [
        "for i in [1, 2, 3]:\n",
        "    print('ひつじが', i, '匹')\n",
        "print('for文終了')"
      ],
      "metadata": {
        "id": "dbZqWTjY9-RI"
      },
      "execution_count": null,
      "outputs": []
    },
    {
      "cell_type": "code",
      "source": [
        "for i in [1, 2, 3]:\n",
        "    print('外側:', i)\n",
        "    for j in [1, 2]:\n",
        "        print('内側 i, j:', i , j)\n",
        "print('for文全部終了')"
      ],
      "metadata": {
        "id": "WRCi9zPc_Tly"
      },
      "execution_count": null,
      "outputs": []
    },
    {
      "cell_type": "code",
      "source": [
        "x = 1\n",
        "while x <= 10:\n",
        "    print(x)\n",
        "    x = x + 1\n",
        "    if x == 4:\n",
        "        break\n",
        "print('while文終了')"
      ],
      "metadata": {
        "id": "-4QSL2NI9y9g"
      },
      "execution_count": null,
      "outputs": []
    },
    {
      "cell_type": "code",
      "source": [
        "for i in range(5):\n",
        "    if i == 2:\n",
        "      print('2回目なのでskip')\n",
        "      continue\n",
        "    print(i,'回目終了')\n",
        "print('for文終了')"
      ],
      "metadata": {
        "id": "merqfJGn_kOg"
      },
      "execution_count": null,
      "outputs": []
    },
    {
      "cell_type": "markdown",
      "source": [
        "### **配列**"
      ],
      "metadata": {
        "id": "7AXHjSPE9UsH"
      }
    },
    {
      "cell_type": "code",
      "source": [
        "s = [58, 81, 97, 30, 100]\n",
        "print(s) # sを表示してみる"
      ],
      "metadata": {
        "id": "5W0cVC8VAIj-"
      },
      "execution_count": null,
      "outputs": []
    },
    {
      "cell_type": "code",
      "source": [
        "s = [58, 81, 97, 30, 100]\n",
        "print(s[0]) # 58と表示される\n",
        "print(s[2]) # 97と表示される"
      ],
      "metadata": {
        "id": "v9TqgmpFAP8_"
      },
      "execution_count": null,
      "outputs": []
    },
    {
      "cell_type": "code",
      "source": [
        "s = [58, 81, 97, 30, 100]\n",
        "s[3] = 54\n",
        "print(s) #  [58, 81, 97, 54, 100]"
      ],
      "metadata": {
        "id": "1kB6_kJnAZGg"
      },
      "execution_count": null,
      "outputs": []
    },
    {
      "cell_type": "code",
      "source": [
        "s = [58, 81, 97, 30, 100]\n",
        "得点 = s[1]\n",
        "print(得点) # 81と表示される"
      ],
      "metadata": {
        "id": "Z54RqDPRAcOm"
      },
      "execution_count": null,
      "outputs": []
    },
    {
      "cell_type": "code",
      "source": [
        "s = [58, 81, 97, 30, 100]\n",
        "print(s[-1]) # 100と表示される\n",
        "print(s[-2]) # 30と表示される\n",
        "print(s[-3]) # 97と表示される\n",
        "print(s[-4]) # 81と表示される\n",
        "print(s[-5]) # 58と表示される"
      ],
      "metadata": {
        "id": "kFICqHHnAjIQ"
      },
      "execution_count": null,
      "outputs": []
    },
    {
      "cell_type": "code",
      "source": [
        "s = [58, 81, 97, 30, 100]\n",
        "print(s[0] + s[1])  # 58 + 81 = 139\n",
        "print(s[1] - s[2])  # 81 – 97 = -16\n",
        "print(s[2] * s[3])   # 97 * 30 = 2910\n",
        "print(s[3] / s[4])   # 30 / 100 =0.3\n",
        "print(s[1] + s[3] * s[4]) # 81+30*100=81+3000=3081\n",
        "\n",
        "# 関係演算子\n",
        "print(s[2]>s[3]) # 97>30 True\n",
        "print(s[2]<s[3]) # 97<30 False"
      ],
      "metadata": {
        "id": "fVyrSZcnAp_l"
      },
      "execution_count": null,
      "outputs": []
    },
    {
      "cell_type": "code",
      "source": [
        "x, y, z = [10, 20, 30] # 変数の個数と要素数は同じである必要がある\n",
        "print(x, y, z) # 10 20 30 と表示される"
      ],
      "metadata": {
        "id": "YPLl1wutBBUB"
      },
      "execution_count": null,
      "outputs": []
    },
    {
      "cell_type": "code",
      "source": [
        "s = [58, 81, 97, 30, 100]  # 要素数5個\n",
        "\n",
        "合計 = 0\n",
        "for x in range(len(s)): # 繰返し回数5回\n",
        "    合計 = 合計 + s[x]\n",
        "print(合計)"
      ],
      "metadata": {
        "id": "IfTJbaRdKtdn"
      },
      "execution_count": null,
      "outputs": []
    },
    {
      "cell_type": "code",
      "source": [
        "名前_得点= ['Aさん', 58, 'Bさん'] # ①\n",
        "名前_得点= 名前_得点 + [ 81 ]    # ②\n",
        "print(名前_得点) # ['Aさん', 58, 'Bさん', 81]\n",
        "名前_得点=名前_得点 + ['Cさん', 97] # ③\n",
        "print(名前_得点) # ['Aさん', 58, 'Bさん', 81, 'Cさん', 97]"
      ],
      "metadata": {
        "id": "7DxDR1c6Kxam"
      },
      "execution_count": null,
      "outputs": []
    },
    {
      "cell_type": "code",
      "source": [
        "名前_得点 = ['Aさん', 58, 'Bさん'] # ①\n",
        "名前_得点.append(81) # 引数に追加したいデータを書く ②\n",
        "print(名前_得点) # ['Aさん', 58, 'Bさん', 81]\n",
        "名前_得点.append('Cさん') # append(['Cさん', 97])ではない ③\n",
        "print(名前_得点) # ['Aさん', 58, 'Bさん', 81, 'Cさん']\n",
        "名前_得点.append(97)  # ④\n",
        "print(名前_得点) # [ 'Aさん', 58,'Bさん', 81,'Cさん', 97]"
      ],
      "metadata": {
        "id": "m0PQaoXzLgH3"
      },
      "execution_count": null,
      "outputs": []
    },
    {
      "cell_type": "code",
      "source": [
        "名前_得点 = ['Aさん', 58, 'Bさん', 81]\n",
        "名前_得点.extend(['Cさん', 97])\n",
        "print(名前_得点) # ['Aさん', 58, 'Bさん', 81, 'Cさん', 97]"
      ],
      "metadata": {
        "id": "YjqKEk8dL1t3"
      },
      "execution_count": null,
      "outputs": []
    },
    {
      "cell_type": "code",
      "source": [
        "リスト = [0, 1, 2, 3, 4]\n",
        "print(リスト[2:4]) # [2, 3]\n",
        "print(リスト[:4]) # リスト[0:4]と同じ→[0, 1, 2, 3]\n",
        "print(リスト[1:]) # リスト[1:5]と同じ→[1, 2, 3, 4]\n",
        "print(リスト[1:4:2]) # [1,2,3]から2つおきに取り出す→ [1, 3]\n",
        "print(リスト[::-1]) # リスト[0:5:-1]と同じ→[4, 3, 2, 1, 0]"
      ],
      "metadata": {
        "id": "KnXoR3qoL6E2"
      },
      "execution_count": null,
      "outputs": []
    },
    {
      "cell_type": "code",
      "source": [
        "名前_得点 = [['Aさん', 58],\n",
        "             ['Bさん', 81],\n",
        "             ['Cさん', 97]]\n",
        "print(名前_得点[1][0]) # Bさん\n",
        "print(名前_得点[1][1]) # 81\n",
        "名前 = 名前_得点[2][0]\n",
        "得点 = 名前_得点[2][1]\n",
        "名前_得点[2][1] = 48\n",
        "print(名前_得点[2][1]) # 48\n",
        "AB合計 = 名前_得点[0][1]+名前_得点[1][1]\n",
        "print(AB合計) # 139\n",
        "print(名前, 得点) # Cさん 97"
      ],
      "metadata": {
        "id": "oBmOwTN8JU_K"
      },
      "execution_count": null,
      "outputs": []
    },
    {
      "cell_type": "code",
      "source": [
        "名前_得点 = [['Aさん', 58],\n",
        "             ['Bさん', 81],\n",
        "             ['Cさん', 97]]\n",
        "for y in range(len(名前_得点)):\n",
        "    for x in range(len(名前_得点[0])):\n",
        "        print(名前_得点[y][x])"
      ],
      "metadata": {
        "id": "REV-iOhQKGPo"
      },
      "execution_count": null,
      "outputs": []
    },
    {
      "cell_type": "markdown",
      "source": [
        "**辞書**"
      ],
      "metadata": {
        "id": "pT-ExgTE9tFj"
      }
    },
    {
      "cell_type": "code",
      "source": [
        "x, y, z = {'apple':'リンゴ', 'orange':'ミカン', 'melon':'メロン'}\n",
        "print(x, y, z) # apple orange melon と表示される"
      ],
      "metadata": {
        "id": "GLSQdVxCrgQp"
      },
      "execution_count": null,
      "outputs": []
    },
    {
      "cell_type": "code",
      "source": [
        "辞書 = {'apple':'リンゴ', 'orange':'ミカン', 'melon':'メロン'}\n",
        "print(辞書) # {'apple':'リンゴ', 'orange':'ミカン', 'melon':'メロン'}\n",
        "\n",
        " # データを混在させたもの\n",
        "値段 = {'リンゴ': 100, 'オレンジ': 80, 'メロン':500}\n",
        "id_name = {1: 'Aさん', 2: 'Bさん', 3: 'Cさん' }"
      ],
      "metadata": {
        "id": "JjyjDo_br7Ji"
      },
      "execution_count": null,
      "outputs": []
    },
    {
      "cell_type": "code",
      "source": [
        "辞書 = {'apple':'リンゴ', 'orange':'ミカン', 'melon':'メロン'}\n",
        "print(辞書['apple']) # 辞書名にキーを指定すると値('リンゴ')が取り出せる\n",
        "appleの意味 = 辞書['apple'] # ほかの変数にも代入できる\n",
        "print(appleの意味) # 'リンゴ'\n",
        "\n",
        "# 普通の変数のように、足し算など演算も行える\n",
        "値段 = {'apple': 100, 'orange': 80, 'melon':500}\n",
        "print(値段['apple'] + 値段['orange']) # 180"
      ],
      "metadata": {
        "id": "QnA3Vdxusbmj"
      },
      "execution_count": null,
      "outputs": []
    },
    {
      "cell_type": "markdown",
      "source": [
        "**タプル**"
      ],
      "metadata": {
        "id": "ixxxW1KQ9wcq"
      }
    },
    {
      "cell_type": "code",
      "source": [
        "x, y, z = (10, 20, 30) # タプルの場合\n",
        "print(x, y, z) # 10, 20, 30 と表示される"
      ],
      "metadata": {
        "id": "RX_Tb1Hbrij6"
      },
      "execution_count": null,
      "outputs": []
    },
    {
      "cell_type": "code",
      "source": [
        "名前_得点 = ( 'Aさん', 58, 'Bさん', 81, 'Cさん', 97)\n",
        "print(名前_得点)  # ( 'Aさん', 58, 'Bさん', 81, 'Cさん', 97)\n",
        "print(名前_得点[2]) # 'Bさん'\n",
        "名前_得点[3] = 84 # エラーになる"
      ],
      "metadata": {
        "id": "7ZSM1g7CFit2"
      },
      "execution_count": null,
      "outputs": []
    },
    {
      "cell_type": "code",
      "source": [],
      "metadata": {
        "id": "MzT1oVp65Snd"
      },
      "execution_count": null,
      "outputs": []
    },
    {
      "cell_type": "code",
      "source": [],
      "metadata": {
        "id": "XM0IcJym5SX1"
      },
      "execution_count": null,
      "outputs": []
    }
  ]
}