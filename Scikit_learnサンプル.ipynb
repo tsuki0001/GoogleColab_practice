{
  "nbformat": 4,
  "nbformat_minor": 0,
  "metadata": {
    "colab": {
      "provenance": [],
      "authorship_tag": "ABX9TyN/um6uDYN9IfdKbPb8cSJA",
      "include_colab_link": true
    },
    "kernelspec": {
      "name": "python3",
      "display_name": "Python 3"
    },
    "language_info": {
      "name": "python"
    }
  },
  "cells": [
    {
      "cell_type": "markdown",
      "metadata": {
        "id": "view-in-github",
        "colab_type": "text"
      },
      "source": [
        "<a href=\"https://colab.research.google.com/github/tsuki0001/GoogleColab_practice/blob/main/Scikit_learn%E3%82%B5%E3%83%B3%E3%83%97%E3%83%AB.ipynb\" target=\"_parent\"><img src=\"https://colab.research.google.com/assets/colab-badge.svg\" alt=\"Open In Colab\"/></a>"
      ]
    },
    {
      "cell_type": "code",
      "source": [
        "from keras.datasets import mnist\n",
        "\n",
        "訓練データ, テストデータ = mnist.load_data() # データセットを読み込む\n",
        "訓練画像, 訓練ラベル = 訓練データ\n",
        "テスト画像, テストラベル = テストデータ\n",
        "\n",
        "print('訓練データ:', len(訓練画像), len(訓練ラベル))\n",
        "print('テストデータ:', len(テスト画像), len(テストラベル))"
      ],
      "metadata": {
        "id": "apQYu_JEAqCf"
      },
      "execution_count": null,
      "outputs": []
    },
    {
      "cell_type": "code",
      "source": [
        "from keras.datasets import mnist\n",
        "from google.colab.patches import cv2_imshow\n",
        "import cv2\n",
        "\n",
        "訓練データ, テストデータ = mnist.load_data() # (1) データセットを読み込む\n",
        "訓練画像, 訓練ラベル = 訓練データ\n",
        "テスト画像, テストラベル = テストデータ\n",
        "\n",
        "拡大画像 = cv2.resize(訓練画像[0], (200, 200)) # 小さいので拡大する\n",
        "cv2_imshow(拡大画像) # 訓練画像[0]を表示\n",
        "print('ラベル:', 訓練ラベル[0])"
      ],
      "metadata": {
        "id": "lVhztTzB3isH"
      },
      "execution_count": null,
      "outputs": []
    },
    {
      "cell_type": "code",
      "source": [
        "from keras.datasets import mnist\n",
        "from google.colab.patches import cv2_imshow\n",
        "import cv2\n",
        "\n",
        "訓練データ, テストデータ = mnist.load_data() # (1) データセットを読み込む\n",
        "訓練画像, 訓練ラベル = 訓練データ\n",
        "テスト画像, テストラベル = テストデータ\n",
        "\n",
        "拡大画像 = cv2.resize(訓練画像[0], (200, 200)) # 小さいので拡大する\n",
        "cv2_imshow(拡大画像) # 訓練画像[0]を表示\n",
        "print('ラベル:', 訓練ラベル[0])\n",
        "print(訓練画像[0])"
      ],
      "metadata": {
        "id": "BARhuFUswTv0"
      },
      "execution_count": null,
      "outputs": []
    },
    {
      "cell_type": "code",
      "source": [
        "from keras.datasets import mnist\n",
        "from sklearn.neural_network import MLPClassifier # (1) 必要なライブラリをインポートする\n",
        "\n",
        "訓練データ, テストデータ = mnist.load_data() # (2) データセットを読み込む\n",
        "訓練画像, 訓練ラベル = 訓練データ\n",
        "テスト画像, テストラベル = テストデータ\n",
        "\n",
        "訓練画像 = 訓練画像.reshape(len(訓練画像), 28*28) # (3) データを前処理する\n",
        "mlp = MLPClassifier(verbose=True) # (4) モデルを作成する\n",
        "mlp.fit(訓練画像, 訓練ラベル) # (5) モデルを訓練する"
      ],
      "metadata": {
        "id": "3FQzNZVewh1D"
      },
      "execution_count": null,
      "outputs": []
    },
    {
      "cell_type": "code",
      "source": [
        "from keras.datasets import mnist\n",
        "from sklearn.neural_network import MLPClassifier # (1)必要なライブラリをインポートする\n",
        "import numpy as np\n",
        "\n",
        "訓練データ, テストデータ = mnist.load_data() # (2) データセットを読み込む\n",
        "訓練画像, 訓練ラベル = 訓練データ\n",
        "テスト画像, テストラベル = テストデータ\n",
        "\n",
        "訓練画像 = 訓練画像.reshape(len(訓練画像), 28*28).astype(np.float32) # (3) データを前処理する\n",
        "訓練画像 /= 255 # (3) データを前処理する\n",
        "mlp = MLPClassifier(verbose=True) # (4) モデルを作成する\n",
        "mlp.fit(訓練画像, 訓練ラベル) # (5) モデルを訓練する\n",
        "テスト画像 = テスト画像.reshape(len(テスト画像), 28*28).astype(np.float32)\n",
        "テスト画像 /= 255 # 0~1にする\n",
        "print(mlp.score(テスト画像, テストラベル)) # (6)モデルを評価する"
      ],
      "metadata": {
        "id": "wMtLhEIHH97J"
      },
      "execution_count": null,
      "outputs": []
    },
    {
      "cell_type": "code",
      "source": [
        "from keras.datasets import mnist\n",
        "from sklearn.neural_network import MLPClassifier # (1)必要なライブラリをインポートする\n",
        "import numpy as np\n",
        "\n",
        "訓練データ, テストデータ = mnist.load_data() # (2) データセットを読み込む\n",
        "訓練画像, 訓練ラベル = 訓練データ\n",
        "テスト画像, テストラベル = テストデータ\n",
        "\n",
        "訓練画像 = 訓練画像.reshape(len(訓練画像), 28*28).astype(np.float32) # (3) データを前処理する\n",
        "訓練画像 /= 255 # (3) データを前処理する\n",
        "mlp = MLPClassifier(verbose=True) # (4) モデルを作成する\n",
        "mlp.fit(訓練画像, 訓練ラベル) # (5) モデルを訓練する"
      ],
      "metadata": {
        "id": "pUJVPCDzxyco"
      },
      "execution_count": null,
      "outputs": []
    },
    {
      "cell_type": "code",
      "source": [
        "from keras.datasets import mnist\n",
        "from sklearn.neural_network import MLPClassifier\n",
        "import numpy as np\n",
        "\n",
        "訓練データ, テストデータ = mnist.load_data()\n",
        "訓練画像, 訓練ラベル = 訓練データ\n",
        "テスト画像, テストラベル = テストデータ\n",
        "\n",
        "訓練画像 = 訓練画像.reshape(len(訓練画像), 28*28).astype(np.float32)\n",
        "訓練画像 /= 255 # 0~1にする\n",
        "mlp = MLPClassifier(verbose=True)\n",
        "mlp.fit(訓練画像, 訓練ラベル)\n",
        "\n",
        "テスト画像 = テスト画像.reshape(len(テスト画像), 28*28).astype(np.float32)\n",
        "テスト画像 /= 255 # 0~1にする\n",
        "予測結果 = mlp.predict([テスト画像[0]])\n",
        "print(予測結果, テストラベル[0]) # [7] 7 と表示される"
      ],
      "metadata": {
        "id": "qGCSGTfnynbh"
      },
      "execution_count": null,
      "outputs": []
    },
    {
      "cell_type": "code",
      "source": [
        "from keras.datasets import mnist\n",
        "from sklearn.neural_network import MLPClassifier\n",
        "import numpy as np\n",
        "\n",
        "訓練データ, テストデータ = mnist.load_data()\n",
        "訓練画像, 訓練ラベル = 訓練データ\n",
        "テスト画像, テストラベル = テストデータ\n",
        "\n",
        "訓練画像 = 訓練画像.reshape(len(訓練画像), 28*28).astype(np.float32) # 画像を1次元にする\n",
        "訓練画像 /= 255 # 0~1にする\n",
        "mlp = MLPClassifier(verbose=True)\n",
        "mlp.fit(訓練画像, 訓練ラベル)\n",
        "\n",
        "テスト画像 = テスト画像.reshape(len(テスト画像), 28*28).astype(np.float32)\n",
        "テスト画像 /= 255 # 0~1にする\n",
        "予想結果 = mlp.predict(テスト画像) # (6) 評価:テスト画像全部の予測結果が得られる(1万枚)\n",
        "\n",
        "正解数 = 0\n",
        "for x in range(len(テスト画像)): # 1万枚の予測結果をテストラベル（正解）と比較する\n",
        "     if 予想結果[x]==テストラベル[x]: # 予測結果がテストラベル(正解)と同じ\n",
        "         正解数 = 正解数 + 1 # 合っていたので正解数を1増やす\n",
        "print('精度:', 正解数/len(テスト画像)) # 正解数とテスト画像の枚数で割れば精度が得られる"
      ],
      "metadata": {
        "id": "ioLO_nedD3MY"
      },
      "execution_count": null,
      "outputs": []
    },
    {
      "cell_type": "code",
      "source": [
        "from keras.datasets import mnist\n",
        "from sklearn.neural_network import MLPClassifier\n",
        "import numpy as np\n",
        "\n",
        "訓練データ, テストデータ = mnist.load_data()\n",
        "訓練画像, 訓練ラベル = 訓練データ\n",
        "テスト画像, テストラベル = テストデータ\n",
        "\n",
        "訓練画像 = 訓練画像.reshape(len(訓練画像), 28*28).astype(np.float32)\n",
        "訓練画像 /= 255 # 0~1にする\n",
        "mlp = MLPClassifier(verbose=True)\n",
        "mlp.fit(訓練画像, 訓練ラベル)\n",
        "\n",
        "テスト画像 = テスト画像.reshape(len(テスト画像), 28*28).astype(np.float32)\n",
        "テスト画像 /= 255 # 0~1にする\n",
        "精度 = mlp.score(テスト画像, テストラベル)\n",
        "print(精度)"
      ],
      "metadata": {
        "id": "_lQRO2vu1G4k"
      },
      "execution_count": null,
      "outputs": []
    },
    {
      "cell_type": "code",
      "execution_count": null,
      "metadata": {
        "id": "7eCgI3jdE2bk"
      },
      "outputs": [],
      "source": [
        "from keras.datasets import mnist\n",
        "from sklearn.neural_network import MLPClassifier\n",
        "import numpy as np\n",
        "import joblib\n",
        "\n",
        "訓練データ, テストデータ = mnist.load_data()\n",
        "訓練画像, 訓練ラベル = 訓練データ\n",
        "テスト画像, テストラベル = テストデータ\n",
        "\n",
        "訓練画像 = 訓練画像.reshape(len(訓練画像), 28*28).astype(np.float32)\n",
        "訓練画像 /= 255 # 0~1にする\n",
        "mlp = MLPClassifier(verbose=True)\n",
        "mlp.fit(訓練画像, 訓練ラベル)\n",
        "\n",
        "テスト画像 = テスト画像.reshape(len(テスト画像), 28*28).astype(np.float32)\n",
        "テスト画像 /= 255 # 0~1にする\n",
        "精度 = mlp.score(テスト画像, テストラベル)\n",
        "print(精度)\n",
        "joblib.dump(mlp, 'model.pkl', compress=True) # モデルの保存"
      ]
    },
    {
      "cell_type": "markdown",
      "source": [
        "次のプログラムは「手書きの2.png」をアップロードしてから実行すること"
      ],
      "metadata": {
        "id": "zfHW6bR_6mp5"
      }
    },
    {
      "cell_type": "code",
      "source": [
        "import cv2\n",
        "import joblib\n",
        "\n",
        "画像 = cv2.imread('手書きの2.png') # 新しいデータの読み込み\n",
        "画像 = cv2.resize(画像, (28, 28)) # (1) データを訓練データのサイズにする\n",
        "グレー画像 = cv2.cvtColor(画像, cv2.COLOR_BGR2GRAY) # (2) グレースケール化\n",
        "白黒反転 = cv2.bitwise_not(グレー画像) # (3) 色を反転\n",
        "自分の画像 = 白黒反転.flatten() # (4) 1次元配列に変換\n",
        "自分の画像 = 自分の画像.astype(np.float32)\n",
        "自分の画像 /= 255 # (5) 0~1にする\n",
        "\n",
        "mlp = joblib.load('model.pkl') # 学習済みのモデルの読み込み\n",
        "予測結果 = mlp.predict([自分の画像]) #自分の画像がどの数字かを予測する\n",
        "print('予測結果:', 予測結果)"
      ],
      "metadata": {
        "id": "DcJp1TPX4LpN"
      },
      "execution_count": null,
      "outputs": []
    },
    {
      "cell_type": "code",
      "source": [
        "! curl -s -O http://matsuda.static.jp/pe/data_012.zip\n",
        "! unzip -q -o data_012.zip\n",
        "import cv2\n",
        "import numpy as np\n",
        "\n",
        "画像データセット = [] # 画像データ\n",
        "ラベルデータセット = [] # ラベル\n",
        "\n",
        "def loadData(フォルダ, ラベル):\n",
        "    global 画像データセット, ラベルデータセット\n",
        "    for n in range(100):\n",
        "        画像 = cv2.imread(フォルダ+str(n)+'.png') # (2) 画像を読み込む\n",
        "        画像 = cv2.resize(画像, (28, 28)) # (3) リサイズする\n",
        "        グレー = cv2.cvtColor(画像, cv2.COLOR_BGR2GRAY) # (4) グレースケール化する\n",
        "\n",
        "        画像データセット.append(グレー) # (5) 画像をデータセットに追加\n",
        "        ラベルデータセット.append(ラベル) # (6) 画像をデータセットに追加\n",
        "\n",
        "loadData('data_012/0/', 0) # (1) データセットを読み込む\n",
        "loadData('data_012/1/', 1)\n",
        "loadData('data_012/2/', 2)\n",
        "\n",
        "画像データセット = np.array(画像データセット) # NumPy配列にする\n",
        "ラベルデータセット = np.array(ラベルデータセット)"
      ],
      "metadata": {
        "id": "JUtWtvFzVbIS"
      },
      "execution_count": null,
      "outputs": []
    },
    {
      "cell_type": "code",
      "source": [
        "! curl -s -O http://matsuda.static.jp/pe/data_012.zip\n",
        "! unzip -q -o data_012.zip\n",
        "import cv2\n",
        "import numpy as np\n",
        "\n",
        "画像データセット = [] # 画像データ\n",
        "ラベルデータセット = [] # ラベル\n",
        "\n",
        "def loadData(フォルダ, ラベル):\n",
        "    global 画像データセット, ラベルデータセット\n",
        "    for n in range(100):\n",
        "        画像 = cv2.imread(フォルダ+str(n)+'.png') # (2) 画像を読み込む\n",
        "        画像 = cv2.resize(画像, (28, 28)) # (3) リサイズする\n",
        "        グレー = cv2.cvtColor(画像, cv2.COLOR_BGR2GRAY) # (4) グレースケール化する\n",
        "\n",
        "        画像データセット.append(グレー) # (5) 画像をデータセットに追加\n",
        "        ラベルデータセット.append(ラベル) # (6) 画像をデータセットに追加\n",
        "\n",
        "loadData('data_012/0/', 0) # (1) データセットを読み込む\n",
        "loadData('data_012/1/', 1)\n",
        "loadData('data_012/2/', 2)\n",
        "\n",
        "画像データセット = np.array(画像データセット) # NumPy配列にする\n",
        "ラベルデータセット = np.array(ラベルデータセット)\n",
        "\n",
        "from sklearn.model_selection import train_test_split\n",
        "訓練画像, テスト画像, 訓練ラベル, テストラベル = train_test_split(画像データセット, ラベルデータセット)\n",
        "\n",
        "訓練画像 = 訓練画像.reshape(len(訓練画像), 28*28).astype(np.float32)\n",
        "訓練画像 /= 255\n",
        "from sklearn.neural_network import MLPClassifier\n",
        "mlp = MLPClassifier(verbose=True)\n",
        "mlp.fit(訓練画像, 訓練ラベル)\n",
        "\n",
        "テスト画像 = テスト画像.reshape(len(テスト画像), 28*28).astype(np.float32)\n",
        "テスト画像 /= 255\n",
        "print(mlp.score(テスト画像, テストラベル))"
      ],
      "metadata": {
        "id": "Wr3uSVjyySxT"
      },
      "execution_count": null,
      "outputs": []
    },
    {
      "cell_type": "code",
      "source": [
        "from keras.datasets import mnist\n",
        "from sklearn.neural_network import MLPClassifier\n",
        "import numpy as np\n",
        "\n",
        "訓練データ, テストデータ = mnist.load_data()\n",
        "訓練画像, 訓練ラベル = 訓練データ\n",
        "テスト画像, テストラベル = テストデータ\n",
        "\n",
        "訓練画像 = 訓練画像.reshape(len(訓練画像), 28*28).astype(np.float32)\n",
        "訓練画像 /= 255 # 0~1にする\n",
        "mlp = MLPClassifier(verbose=True)\n",
        "mlp.fit(訓練画像, 訓練ラベル)\n",
        "\n",
        "テスト画像 = テスト画像.reshape(len(テスト画像), 28*28).astype(np.float32)\n",
        "テスト画像 /= 255 # 0~1にする\n",
        "\n",
        "予測値 = mlp.predict(テスト画像)\n",
        "from sklearn import metrics\n",
        "混同行列 = metrics.confusion_matrix(テストラベル, 予測値)\n",
        "print(混同行列)"
      ],
      "metadata": {
        "id": "ngbbJt7vSG41"
      },
      "execution_count": null,
      "outputs": []
    }
  ]
}